{
 "metadata": {
  "language_info": {
   "codemirror_mode": {
    "name": "ipython",
    "version": 3
   },
   "file_extension": ".py",
   "mimetype": "text/x-python",
   "name": "python",
   "nbconvert_exporter": "python",
   "pygments_lexer": "ipython3",
   "version": "3.8.8"
  },
  "orig_nbformat": 2,
  "kernelspec": {
   "name": "python3",
   "display_name": "Python 3.8.8 64-bit ('base': conda)"
  },
  "interpreter": {
   "hash": "42a53de0efa402c05e157c345c0550db584ce16d8ed4096ecc7c4bc69629c3f6"
  }
 },
 "nbformat": 4,
 "nbformat_minor": 2,
 "cells": [
  {
   "cell_type": "code",
   "execution_count": 25,
   "source": [
    "from trees import *\n",
    "from black_scholes import *"
   ],
   "outputs": [],
   "metadata": {}
  },
  {
   "cell_type": "markdown",
   "source": [
    "Set Inputs"
   ],
   "metadata": {}
  },
  {
   "cell_type": "code",
   "execution_count": 2,
   "source": [
    "inputs = set_inputs(asset=12, volatility=0.3, interest_rate=0.06, dividend=0.04, strike=10, time_to_maturity=1, time_periods=4, u=None, d=None, barrier=None)\n",
    "inputs"
   ],
   "outputs": [
    {
     "output_type": "execute_result",
     "data": {
      "text/plain": [
       "{'asset': 12,\n",
       " 'sigma': 0.3,\n",
       " 'r': 0.06,\n",
       " 'q': 0.04,\n",
       " 'K': 10,\n",
       " 'T': 1,\n",
       " 'periods': 4,\n",
       " 'step': 0.25,\n",
       " 'u': None,\n",
       " 'd': None,\n",
       " 'barrier': None}"
      ]
     },
     "metadata": {},
     "execution_count": 2
    }
   ],
   "metadata": {}
  },
  {
   "cell_type": "code",
   "execution_count": 3,
   "source": [
    "d = get_d(interest_rate=inputs[\"r\"], dividend=inputs[\"q\"], volatility=inputs[\"sigma\"], step=inputs[\"step\"], d=inputs[\"d\"])\n",
    "u = get_u(d=d, u=inputs[\"u\"])\n",
    "u, d"
   ],
   "outputs": [
    {
     "output_type": "execute_result",
     "data": {
      "text/plain": [
       "(1.1631873818945189, 0.8597067124054161)"
      ]
     },
     "metadata": {},
     "execution_count": 3
    }
   ],
   "metadata": {}
  },
  {
   "cell_type": "code",
   "execution_count": 4,
   "source": [
    "stock_tree = get_stock_tree(asset=inputs[\"asset\"], u=u, d=d, time_periods=inputs[\"periods\"])\n",
    "print_tree(stock_tree, inputs[\"periods\"])"
   ],
   "outputs": [
    {
     "output_type": "stream",
     "name": "stdout",
     "text": [
      "[12.]\n",
      "[10.31648055 13.95824858]\n",
      "[ 8.86914758 12.         12.         16.23605862]\n",
      "[ 7.6248657  10.31648055 10.31648055 13.95824858 10.31648055 13.95824858\n",
      " 13.95824858 18.88557852]\n",
      "[ 6.55514823  8.86914758  8.86914758 12.          8.86914758 12.\n",
      " 12.         16.23605862  8.86914758 12.         12.         16.23605862\n",
      " 12.         16.23605862 16.23605862 21.96746664]\n"
     ]
    }
   ],
   "metadata": {}
  },
  {
   "cell_type": "code",
   "execution_count": 5,
   "source": [
    "p = get_p(interest_rate=inputs[\"r\"], dividend=inputs[\"q\"], time_periods=inputs[\"periods\"], step=inputs[\"step\"], tree=stock_tree)\n",
    "p"
   ],
   "outputs": [
    {
     "output_type": "execute_result",
     "data": {
      "text/plain": [
       "array([0.        , 0.47879757, 0.47879757, 0.47879757, 0.47879757,\n",
       "       0.47879757, 0.47879757, 0.47879757, 0.47879757, 0.47879757,\n",
       "       0.47879757, 0.47879757, 0.47879757, 0.47879757, 0.47879757,\n",
       "       0.47879757])"
      ]
     },
     "metadata": {},
     "execution_count": 5
    }
   ],
   "metadata": {}
  },
  {
   "cell_type": "code",
   "execution_count": 6,
   "source": [
    "maturity_func_put = put_at_maturity\n",
    "maturity_func_call = call_at_maturity"
   ],
   "outputs": [],
   "metadata": {}
  },
  {
   "cell_type": "code",
   "execution_count": 7,
   "source": [
    "tree_func_am_put = american_put_tree\n",
    "tree_func_am_call = american_call_tree\n",
    "tree_func_eu_put = european_option_tree\n",
    "tree_func_eu_call = european_option_tree"
   ],
   "outputs": [],
   "metadata": {}
  },
  {
   "cell_type": "code",
   "execution_count": 8,
   "source": [
    "american_put = get_asset_tree(stocks=stock_tree, strike=inputs[\"K\"], interest_rate=inputs[\"r\"], time_periods=inputs[\"periods\"], p=p, step=inputs[\"step\"], maturity_func=maturity_func_put, tree_func=tree_func_am_put, barrier=None)\n",
    "print_tree(american_put, inputs[\"periods\"])"
   ],
   "outputs": [
    {
     "output_type": "stream",
     "name": "stdout",
     "text": [
      "[0.53807875]\n",
      "[0.90736837 0.15306714]\n",
      "[1.49335977 0.29811921 0.29811921 0.        ]\n",
      "[2.3751343  0.58062796 0.58062796 0.         0.58062796 0.\n",
      " 0.         0.        ]\n",
      "[3.44485177 1.13085242 1.13085242 0.         1.13085242 0.\n",
      " 0.         0.         1.13085242 0.         0.         0.\n",
      " 0.         0.         0.         0.        ]\n"
     ]
    }
   ],
   "metadata": {}
  },
  {
   "cell_type": "code",
   "execution_count": 9,
   "source": [
    "european_put = get_asset_tree(stocks=stock_tree, strike=inputs[\"K\"], interest_rate=inputs[\"r\"], time_periods=inputs[\"periods\"], p=p, step=inputs[\"step\"], maturity_func=maturity_func_put, tree_func=tree_func_eu_put, barrier=None)\n",
    "print_tree(european_put, inputs[\"periods\"])"
   ],
   "outputs": [
    {
     "output_type": "stream",
     "name": "stdout",
     "text": [
      "[0.52819618]\n",
      "[0.88812072 0.15306714]\n",
      "[1.45587233 0.29811921 0.29811921 0.        ]\n",
      "[2.30212237 0.58062796 0.58062796 0.         0.58062796 0.\n",
      " 0.         0.        ]\n",
      "[3.44485177 1.13085242 1.13085242 0.         1.13085242 0.\n",
      " 0.         0.         1.13085242 0.         0.         0.\n",
      " 0.         0.         0.         0.        ]\n"
     ]
    }
   ],
   "metadata": {}
  },
  {
   "cell_type": "code",
   "execution_count": 10,
   "source": [
    "american_put_ex = exercise_american(european_option=european_put, american_option=american_put)\n",
    "american_put_ex, american_put[american_put_ex]"
   ],
   "outputs": [
    {
     "output_type": "execute_result",
     "data": {
      "text/plain": [
       "(array([[ 1],\n",
       "        [ 3],\n",
       "        [ 7],\n",
       "        [15]]),\n",
       " array([[0.53807875],\n",
       "        [0.90736837],\n",
       "        [1.49335977],\n",
       "        [2.3751343 ]]))"
      ]
     },
     "metadata": {},
     "execution_count": 10
    }
   ],
   "metadata": {}
  },
  {
   "cell_type": "code",
   "execution_count": 11,
   "source": [
    "american_put_delta = get_delta_tree(stocks=stock_tree, options=american_put, time_periods=inputs[\"periods\"])\n",
    "print_tree(american_put_delta, inputs[\"periods\"]//2)\n",
    "print(get_gamma_tree(american_put_delta, inputs[\"periods\"]))"
   ],
   "outputs": [
    {
     "output_type": "stream",
     "name": "stdout",
     "text": [
      "[-0.20712501]\n",
      "[-0.38176203 -0.07037655]\n",
      "[-0.6667025  -0.15943573 -0.15943573  0.        ]\n",
      "[0.         0.31138547 0.15943573 0.50726676 0.         0.36119634\n",
      " 0.36119634 0.63880366]\n"
     ]
    }
   ],
   "metadata": {}
  },
  {
   "cell_type": "code",
   "execution_count": 12,
   "source": [
    "european_put_delta = get_delta_tree(stocks=stock_tree, options=european_put, time_periods=inputs[\"periods\"])\n",
    "print_tree(european_put_delta, inputs[\"periods\"]//2)\n",
    "print(get_gamma_tree(european_put_delta, inputs[\"periods\"]))"
   ],
   "outputs": [
    {
     "output_type": "stream",
     "name": "stdout",
     "text": [
      "[-0.20183976]\n",
      "[-0.36978847 -0.07037655]\n",
      "[-0.6395768  -0.15943573 -0.15943573  0.        ]\n",
      "[0.         0.29941192 0.15943573 0.48014107 0.         0.36119634\n",
      " 0.36119634 0.63880366]\n"
     ]
    }
   ],
   "metadata": {}
  },
  {
   "cell_type": "code",
   "execution_count": 13,
   "source": [
    "put_price_control_variate = control_variate(american_put[1], european_put[1], bs_put(S=inputs[\"asset\"], K=inputs[\"K\"], T=inputs[\"T\"], r=inputs[\"r\"], sigma=inputs[\"sigma\"]))\n",
    "put_price_control_variate"
   ],
   "outputs": [
    {
     "output_type": "execute_result",
     "data": {
      "text/plain": [
       "0.38553957263035943"
      ]
     },
     "metadata": {},
     "execution_count": 13
    }
   ],
   "metadata": {}
  },
  {
   "cell_type": "code",
   "execution_count": 14,
   "source": [
    "put_delta_control_variate = control_variate(american_put_delta[1], european_put_delta[1], put_delta(S=inputs[\"asset\"], K=inputs[\"K\"], T=inputs[\"T\"], r=inputs[\"r\"], sigma=inputs[\"sigma\"]))\n",
    "put_delta_control_variate"
   ],
   "outputs": [
    {
     "output_type": "execute_result",
     "data": {
      "text/plain": [
       "-0.1743825630586943"
      ]
     },
     "metadata": {},
     "execution_count": 14
    }
   ],
   "metadata": {}
  },
  {
   "cell_type": "code",
   "execution_count": 15,
   "source": [
    "american_call = get_asset_tree(stocks=stock_tree, strike=inputs[\"K\"], interest_rate=inputs[\"r\"], time_periods=inputs[\"periods\"], p=p, step=inputs[\"step\"], maturity_func=maturity_func_call, tree_func=tree_func_am_call, barrier=None)\n",
    "print_tree(american_call, inputs[\"periods\"])"
   ],
   "outputs": [
    {
     "output_type": "stream",
     "name": "stdout",
     "text": [
      "[2.64579745]\n",
      "[1.33972837 4.15105252]\n",
      "[0.44494368 2.35604795 2.35604795 6.23605862]\n",
      "[0.         0.94333841 0.94333841 3.96824229 0.94333841 3.96824229\n",
      " 3.96824229 8.88557852]\n",
      "[ 0.          0.          0.          2.          0.          2.\n",
      "  2.          6.23605862  0.          2.          2.          6.23605862\n",
      "  2.          6.23605862  6.23605862 11.96746664]\n"
     ]
    }
   ],
   "metadata": {}
  },
  {
   "cell_type": "code",
   "execution_count": 16,
   "source": [
    "european_call = get_asset_tree(stocks=stock_tree, strike=inputs[\"K\"], interest_rate=inputs[\"r\"], time_periods=inputs[\"periods\"], p=p, step=inputs[\"step\"], maturity_func=maturity_func_call, tree_func=tree_func_eu_call, barrier=None)\n",
    "print_tree(european_call, inputs[\"periods\"])"
   ],
   "outputs": [
    {
     "output_type": "stream",
     "name": "stdout",
     "text": [
      "[2.64002412]\n",
      "[1.33972837 4.13881231]\n",
      "[0.44494368 2.35604795 2.35604795 6.21010779]\n",
      "[0.         0.94333841 0.94333841 3.96824229 0.94333841 3.96824229\n",
      " 3.96824229 8.84654448]\n",
      "[ 0.          0.          0.          2.          0.          2.\n",
      "  2.          6.23605862  0.          2.          2.          6.23605862\n",
      "  2.          6.23605862  6.23605862 11.96746664]\n"
     ]
    }
   ],
   "metadata": {}
  },
  {
   "cell_type": "code",
   "execution_count": 17,
   "source": [
    "american_call_ex = exercise_american(european_option=european_call, american_option=american_call)\n",
    "american_call_ex, american_call[american_call_ex]"
   ],
   "outputs": [
    {
     "output_type": "execute_result",
     "data": {
      "text/plain": [
       "(array([[1],\n",
       "        [2],\n",
       "        [4],\n",
       "        [8]]),\n",
       " array([[2.64579745],\n",
       "        [4.15105252],\n",
       "        [6.23605862],\n",
       "        [8.88557852]]))"
      ]
     },
     "metadata": {},
     "execution_count": 17
    }
   ],
   "metadata": {}
  },
  {
   "cell_type": "code",
   "execution_count": 18,
   "source": [
    "american_call_delta = get_delta_tree(stocks=stock_tree, options=american_call, time_periods=inputs[\"periods\"])\n",
    "print_tree(american_call_delta, inputs[\"periods\"])\n",
    "american_call_delta, american_call_delta[american_call_ex[:-1]]"
   ],
   "outputs": [
    {
     "output_type": "stream",
     "name": "stdout",
     "text": [
      "[0.77196684]\n",
      "[0.6104102 0.9159483]\n",
      "[0.35047303 0.8306141  0.8306141  0.99797178]\n",
      "[0.         0.63880366 0.63880366 1.         0.63880366 1.\n",
      " 1.         1.        ]\n",
      "[]\n"
     ]
    },
    {
     "output_type": "execute_result",
     "data": {
      "text/plain": [
       "(array([0.        , 0.77196684, 0.9159483 , 0.6104102 , 0.99797178,\n",
       "        0.8306141 , 0.8306141 , 0.35047303, 1.        , 1.        ,\n",
       "        1.        , 0.63880366, 1.        , 0.63880366, 0.63880366,\n",
       "        0.        ]),\n",
       " array([[0.77196684],\n",
       "        [0.9159483 ],\n",
       "        [0.99797178]]))"
      ]
     },
     "metadata": {},
     "execution_count": 18
    }
   ],
   "metadata": {}
  },
  {
   "cell_type": "code",
   "execution_count": 19,
   "source": [
    "european_call_delta = get_delta_tree(stocks=stock_tree, options=european_call, time_periods=inputs[\"periods\"])\n",
    "print_tree(european_call_delta, inputs[\"periods\"])"
   ],
   "outputs": [
    {
     "output_type": "stream",
     "name": "stdout",
     "text": [
      "[0.76860578]\n",
      "[0.6104102  0.90982212]\n",
      "[0.35047303 0.8306141  0.8306141  0.99004983]\n",
      "[0.         0.63880366 0.63880366 1.         0.63880366 1.\n",
      " 1.         1.        ]\n",
      "[]\n"
     ]
    }
   ],
   "metadata": {}
  },
  {
   "cell_type": "code",
   "execution_count": 20,
   "source": [
    "call_price_control_variate = control_variate(american_call[1], european_call[1], bs_call(S=inputs[\"asset\"], K=inputs[\"K\"], T=inputs[\"T\"], r=inputs[\"r\"], sigma=inputs[\"sigma\"]))\n",
    "call_price_control_variate"
   ],
   "outputs": [
    {
     "output_type": "execute_result",
     "data": {
      "text/plain": [
       "2.963784999033424"
      ]
     },
     "metadata": {},
     "execution_count": 20
    }
   ],
   "metadata": {}
  },
  {
   "cell_type": "code",
   "execution_count": 21,
   "source": [
    "call_delta_control_variate = control_variate(american_call_delta[1], european_call_delta[1], call_delta(S=inputs[\"asset\"], K=inputs[\"K\"], T=inputs[\"T\"], r=inputs[\"r\"], sigma=inputs[\"sigma\"]))\n",
    "call_delta_control_variate"
   ],
   "outputs": [
    {
     "output_type": "execute_result",
     "data": {
      "text/plain": [
       "0.8342637494857015"
      ]
     },
     "metadata": {},
     "execution_count": 21
    }
   ],
   "metadata": {}
  },
  {
   "cell_type": "code",
   "execution_count": 22,
   "source": [
    "def func(stock, strike, barrier):\n",
    "    return np.log(stock)\n"
   ],
   "outputs": [],
   "metadata": {}
  },
  {
   "cell_type": "code",
   "execution_count": 23,
   "source": [
    "derivative_tree = get_asset_tree(stocks=stock_tree, strike=inputs[\"K\"], interest_rate=inputs[\"r\"], time_periods=inputs[\"periods\"], p=p, step=inputs[\"step\"], maturity_func=func, tree_func=tree_func_eu_call, barrier=None)\n",
    "print_tree(derivative_tree, inputs[\"periods\"])"
   ],
   "outputs": [
    {
     "output_type": "stream",
     "name": "stdout",
     "text": [
      "[2.31604979]\n",
      "[2.21266804 2.50169281]\n",
      "[2.10563246 2.39902528 2.39902528 2.6924181 ]\n",
      "[1.99485623 2.29268312 2.29268312 2.59051    2.29268312 2.59051\n",
      " 2.59051    2.88833688]\n",
      "[1.88025073 2.18257869 2.18257869 2.48490665 2.18257869 2.48490665\n",
      " 2.48490665 2.78723461 2.18257869 2.48490665 2.48490665 2.78723461\n",
      " 2.48490665 2.78723461 2.78723461 3.08956257]\n"
     ]
    }
   ],
   "metadata": {}
  },
  {
   "cell_type": "code",
   "execution_count": 24,
   "source": [
    "stock_tree = [0, 100, 150, 130, 170, 100, 100, 70]\n",
    "time_periods = int(np.log2(len(stock_tree)) - 1)\n",
    "p = get_p(interest_rate=0.06, dividend=0, time_periods=time_periods, step=1, tree=stock_tree)\n",
    "american_call = get_asset_tree(stocks=stock_tree, strike=10, interest_rate=0.06, time_periods=time_periods, p=p, step=1, maturity_func=maturity_func_call, tree_func=tree_func_am_call, barrier=None)\n",
    "print_tree(american_call, 2)"
   ],
   "outputs": [
    {
     "output_type": "stream",
     "name": "stdout",
     "text": [
      "[91.13079563]\n",
      "[120.58235466 140.58235466]\n",
      "[ 60.  90.  90. 160.]\n"
     ]
    }
   ],
   "metadata": {}
  },
  {
   "cell_type": "code",
   "execution_count": null,
   "source": [],
   "outputs": [],
   "metadata": {}
  }
 ]
}