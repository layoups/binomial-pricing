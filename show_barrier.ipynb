{
 "metadata": {
  "language_info": {
   "codemirror_mode": {
    "name": "ipython",
    "version": 3
   },
   "file_extension": ".py",
   "mimetype": "text/x-python",
   "name": "python",
   "nbconvert_exporter": "python",
   "pygments_lexer": "ipython3",
   "version": "3.8.8"
  },
  "orig_nbformat": 2,
  "kernelspec": {
   "name": "python3",
   "display_name": "Python 3.8.8 64-bit ('base': conda)"
  },
  "interpreter": {
   "hash": "42a53de0efa402c05e157c345c0550db584ce16d8ed4096ecc7c4bc69629c3f6"
  }
 },
 "nbformat": 4,
 "nbformat_minor": 2,
 "cells": [
  {
   "cell_type": "code",
   "execution_count": 1,
   "source": [
    "from trees import *\n",
    "# from black_scholes import *"
   ],
   "outputs": [],
   "metadata": {}
  },
  {
   "cell_type": "code",
   "execution_count": 2,
   "source": [
    "inputs = set_inputs(asset=10, volatility=0.8, interest_rate=0.25, dividend=0, strike=9, time_to_maturity=1/12, time_periods=2, u=None, d=None, barrier=10)\n",
    "inputs"
   ],
   "outputs": [
    {
     "output_type": "execute_result",
     "data": {
      "text/plain": [
       "{'asset': 10,\n",
       " 'sigma': 0.8,\n",
       " 'r': 0.25,\n",
       " 'q': 0,\n",
       " 'K': 9,\n",
       " 'T': 0.08333333333333333,\n",
       " 'periods': 2,\n",
       " 'step': 0.041666666666666664,\n",
       " 'u': None,\n",
       " 'd': None,\n",
       " 'barrier': 10}"
      ]
     },
     "metadata": {},
     "execution_count": 2
    }
   ],
   "metadata": {}
  },
  {
   "cell_type": "code",
   "execution_count": 3,
   "source": [
    "d = get_d(interest_rate=inputs[\"r\"], dividend=inputs[\"q\"], volatility=inputs[\"sigma\"], step=inputs[\"step\"], d=inputs[\"d\"])\n",
    "u = get_u(d=d, u=inputs[\"u\"])\n",
    "u, d"
   ],
   "outputs": [
    {
     "output_type": "execute_result",
     "data": {
      "text/plain": [
       "(1.1798554300385744, 0.8475614677361833)"
      ]
     },
     "metadata": {},
     "execution_count": 3
    }
   ],
   "metadata": {}
  },
  {
   "cell_type": "code",
   "execution_count": 4,
   "source": [
    "stock_tree = get_stock_tree(asset=inputs[\"asset\"], u=u, d=d, time_periods=inputs[\"periods\"])\n",
    "print_tree(stock_tree, inputs[\"periods\"])"
   ],
   "outputs": [
    {
     "output_type": "stream",
     "name": "stdout",
     "text": [
      "[10.]\n",
      "[ 8.47561468 11.7985543 ]\n",
      "[ 7.18360442 10.         10.         13.92058836]\n"
     ]
    }
   ],
   "metadata": {}
  },
  {
   "cell_type": "code",
   "execution_count": 5,
   "source": [
    "p = get_p(interest_rate=inputs[\"r\"], dividend=inputs[\"q\"], time_periods=inputs[\"periods\"], step=inputs[\"step\"], tree=stock_tree)\n",
    "p[1]"
   ],
   "outputs": [
    {
     "output_type": "execute_result",
     "data": {
      "text/plain": [
       "0.49025760247237044"
      ]
     },
     "metadata": {},
     "execution_count": 5
    }
   ],
   "metadata": {}
  },
  {
   "cell_type": "code",
   "execution_count": 6,
   "source": [
    "maturity_func_down_and_out_call = down_and_out_call_at_maturity\n",
    "maturity_func_call = call_at_maturity"
   ],
   "outputs": [],
   "metadata": {}
  },
  {
   "cell_type": "code",
   "execution_count": 7,
   "source": [
    "tree_func_eu_down_and_out_call = european_down_and_out_option_tree\n",
    "tree_func_eu = european_option_tree"
   ],
   "outputs": [],
   "metadata": {}
  },
  {
   "cell_type": "code",
   "execution_count": 8,
   "source": [
    "european_down_and_out_call = get_asset_tree(stocks=stock_tree, strike=inputs[\"K\"], barrier=inputs[\"barrier\"], interest_rate=inputs[\"r\"], time_periods=inputs[\"periods\"], p=p, step=inputs[\"step\"], maturity_func=maturity_func_down_and_out_call, tree_func=tree_func_eu_down_and_out_call)\n",
    "print_tree(european_down_and_out_call, inputs[\"periods\"])\n",
    "print(european_down_and_out_call[1])"
   ],
   "outputs": [
    {
     "output_type": "stream",
     "name": "stdout",
     "text": [
      "[0.]\n",
      "[0.         2.38735757]\n",
      "[0.         0.         0.         4.92058836]\n",
      "0.0\n"
     ]
    }
   ],
   "metadata": {}
  },
  {
   "cell_type": "code",
   "execution_count": 9,
   "source": [
    "european_call = get_asset_tree(stocks=stock_tree, strike=inputs[\"K\"], barrier=inputs[\"barrier\"], interest_rate=inputs[\"r\"], time_periods=inputs[\"periods\"], p=p, step=inputs[\"step\"], maturity_func=maturity_func_call, tree_func=tree_func_eu)\n",
    "print_tree(european_call, inputs[\"periods\"])"
   ],
   "outputs": [
    {
     "output_type": "stream",
     "name": "stdout",
     "text": [
      "[1.64779678]\n",
      "[0.48517726 2.89181771]\n",
      "[0.         1.         1.         4.92058836]\n"
     ]
    }
   ],
   "metadata": {}
  },
  {
   "cell_type": "code",
   "execution_count": 10,
   "source": [
    "print(bs_down_and_out_call(S=inputs[\"asset\"], K=inputs[\"K\"], X=inputs[\"barrier\"], T=inputs[\"T\"], r=inputs[\"r\"], sigma=inputs[\"sigma\"]))"
   ],
   "outputs": [
    {
     "output_type": "stream",
     "name": "stdout",
     "text": [
      "0.0\n"
     ]
    }
   ],
   "metadata": {}
  },
  {
   "cell_type": "markdown",
   "source": [
    "## The price calculated through the binomial method converges towards the explicit solution as the number of time periods used tends to infinity."
   ],
   "metadata": {}
  },
  {
   "cell_type": "code",
   "execution_count": null,
   "source": [],
   "outputs": [],
   "metadata": {}
  }
 ]
}